{
 "cells": [
  {
   "cell_type": "code",
   "execution_count": 1,
   "id": "860258da-ee52-4f02-89a5-77c0037a0fc9",
   "metadata": {},
   "outputs": [],
   "source": [
    "import torch\n",
    "from torchviz import make_dot\n",
    "\n",
    "# Definindo os dados de entrada (input) e saída-alvo (target output)\n",
    "# y é a soma dos elementos de x\n",
    "x = [[1, 2], [3, 4], [5, 6], [7, 8]]\n",
    "y = [[3], [7], [11], [15]]\n",
    "\n",
    "# Convertendo listas para tensores para poder usar com o PyTorch\n",
    "X = torch.tensor(x).float()\n",
    "Y = torch.tensor(y).float()\n",
    "\n",
    "# Verificando se há suporte a CUDA (GPU) ou utilizando CPU\n",
    "device = 'cuda' if torch.cuda.is_available() else 'cpu'\n",
    "X = X.to(device)\n",
    "Y = Y.to(device)\n"
   ]
  },
  {
   "cell_type": "code",
   "execution_count": 3,
   "id": "df21a771-cd5c-452f-985a-28eeae991bb7",
   "metadata": {},
   "outputs": [],
   "source": [
    "# Criando um modelo personalizado no PyTorch:\n",
    "\n",
    "import torch.nn as nn\n",
    "\n",
    "class MyNeuralNet(nn.Module):\n",
    "    def __init__(self):\n",
    "        # Quando chamamos o método super().__init__(), garantimos que estamos herdando\n",
    "        super().__init__()\n",
    "        self.layer1 = nn.Linear(2, 8)  # Uma camada linear\n",
    "        self.activation = nn.ReLU()   # Função de ativação\n",
    "        self.layer2 = nn.Linear(8, 1)\n",
    "\n",
    "    # Quando passamos algo pelo objeto do modelo, ele chama o método forward\n",
    "    def forward(self, x):\n",
    "        x = self.layer1(x)\n",
    "        x = self.activation(x)\n",
    "        x = self.layer2(x)\n",
    "        return x\n"
   ]
  },
  {
   "cell_type": "code",
   "execution_count": 5,
   "id": "2d1a190f-f7a6-4195-bab7-c2ab885f48ae",
   "metadata": {},
   "outputs": [],
   "source": [
    "model = MyNeuralNet()"
   ]
  },
  {
   "cell_type": "code",
   "execution_count": 7,
   "id": "d788e73a-9c19-47f5-9668-46a918d76276",
   "metadata": {},
   "outputs": [
    {
     "data": {
      "text/plain": [
       "torch.Size([4, 2])"
      ]
     },
     "execution_count": 7,
     "metadata": {},
     "output_type": "execute_result"
    }
   ],
   "source": [
    "X.shape"
   ]
  },
  {
   "cell_type": "code",
   "execution_count": 9,
   "id": "0b55799c-7e68-48ce-bb4f-8dba2e2f2c94",
   "metadata": {},
   "outputs": [
    {
     "data": {
      "text/plain": [
       "Parameter containing:\n",
       "tensor([[-0.5283, -0.2401],\n",
       "        [-0.0327,  0.5389],\n",
       "        [ 0.0827, -0.4586],\n",
       "        [ 0.3624, -0.5807],\n",
       "        [-0.6287,  0.3657],\n",
       "        [-0.0623, -0.5257],\n",
       "        [ 0.5029, -0.2081],\n",
       "        [ 0.4621,  0.2090]], requires_grad=True)"
      ]
     },
     "execution_count": 9,
     "metadata": {},
     "output_type": "execute_result"
    }
   ],
   "source": [
    "model.layer1.weight"
   ]
  },
  {
   "cell_type": "code",
   "execution_count": null,
   "id": "119aa4e3-da71-4761-8171-93466c9f9c17",
   "metadata": {},
   "outputs": [],
   "source": []
  }
 ],
 "metadata": {
  "kernelspec": {
   "display_name": "Python [conda env:base] *",
   "language": "python",
   "name": "conda-base-py"
  },
  "language_info": {
   "codemirror_mode": {
    "name": "ipython",
    "version": 3
   },
   "file_extension": ".py",
   "mimetype": "text/x-python",
   "name": "python",
   "nbconvert_exporter": "python",
   "pygments_lexer": "ipython3",
   "version": "3.12.7"
  }
 },
 "nbformat": 4,
 "nbformat_minor": 5
}
