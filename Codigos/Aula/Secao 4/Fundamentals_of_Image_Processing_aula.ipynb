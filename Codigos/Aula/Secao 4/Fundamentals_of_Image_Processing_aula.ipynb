{
 "cells": [
  {
   "cell_type": "code",
   "execution_count": 1,
   "id": "da20dc44-c416-4539-8d1b-4073c481c6a3",
   "metadata": {},
   "outputs": [],
   "source": [
    "import cv2 as cv\n",
    "import matplotlib.pyplot as plt\n",
    "import numpy as np\n",
    "%matplotlib inline"
   ]
  },
  {
   "cell_type": "code",
   "execution_count": 13,
   "id": "32516cc6-8849-40d1-b554-c353857ba318",
   "metadata": {},
   "outputs": [
    {
     "name": "stdout",
     "output_type": "stream",
     "text": [
      "Imagem baixada com sucesso!\n"
     ]
    }
   ],
   "source": [
    "import requests\n",
    "\n",
    "url = \"https://i.scdn.co/image/ab6761610000e5eb31f6ab67e6025de876475814\"\n",
    "response = requests.get(url)\n",
    "\n",
    "if response.status_code == 200:\n",
    "    with open(\"imagem.png\", \"wb\") as file:\n",
    "        file.write(response.content)\n",
    "    print(\"Imagem baixada com sucesso!\")\n",
    "else:\n",
    "    print(\"Falha ao baixar a imagem. Código de status:\", response.status_code)\n"
   ]
  },
  {
   "cell_type": "code",
   "execution_count": 19,
   "id": "ffc3b8ee-8462-4db8-9bee-d5ab852c25ef",
   "metadata": {},
   "outputs": [],
   "source": [
    "img = cv.imread('imagem.png')"
   ]
  },
  {
   "cell_type": "code",
   "execution_count": 21,
   "id": "b4084acf-5afe-4b22-9ecf-65694bc764cf",
   "metadata": {},
   "outputs": [
    {
     "data": {
      "text/plain": [
       "<matplotlib.image.AxesImage at 0x179406a80>"
      ]
     },
     "execution_count": 21,
     "metadata": {},
     "output_type": "execute_result"
    }
   ],
   "source": [
    "# OpenCV by default read the image in BGR\n",
    "plt.imshow(img)"
   ]
  },
  {
   "cell_type": "code",
   "execution_count": 23,
   "id": "c4ffe074-ce4c-4954-be67-9494eec9f81b",
   "metadata": {},
   "outputs": [
    {
     "data": {
      "text/plain": [
       "<matplotlib.image.AxesImage at 0x167937cb0>"
      ]
     },
     "execution_count": 23,
     "metadata": {},
     "output_type": "execute_result"
    }
   ],
   "source": [
    "# Convertendo para RGB\n",
    "rgb_image = cv.cvtColor(img, cv.COLOR_BGR2RGB)\n",
    "plt.imshow(rgb_image)"
   ]
  },
  {
   "cell_type": "code",
   "execution_count": 25,
   "id": "03269f6b-6526-4d5a-bad0-6a2ffb0c6799",
   "metadata": {},
   "outputs": [
    {
     "data": {
      "text/plain": [
       "<matplotlib.image.AxesImage at 0x17943fc20>"
      ]
     },
     "execution_count": 25,
     "metadata": {},
     "output_type": "execute_result"
    }
   ],
   "source": [
    "gray_image = cv.cvtColor(rgb_image, cv.COLOR_RGB2GRAY)\n",
    "plt.imshow(gray_image, cmap='gray')"
   ]
  },
  {
   "cell_type": "code",
   "execution_count": 27,
   "id": "962cb3de-46f3-43ef-86b9-a4e68240ce94",
   "metadata": {},
   "outputs": [
    {
     "data": {
      "text/plain": [
       "(640, 640, 3)"
      ]
     },
     "execution_count": 27,
     "metadata": {},
     "output_type": "execute_result"
    }
   ],
   "source": [
    "rgb_image.shape"
   ]
  },
  {
   "cell_type": "code",
   "execution_count": 29,
   "id": "dba43014-b9b2-44ca-8eca-12714f73e38d",
   "metadata": {},
   "outputs": [
    {
     "data": {
      "text/plain": [
       "(640, 640)"
      ]
     },
     "execution_count": 29,
     "metadata": {},
     "output_type": "execute_result"
    }
   ],
   "source": [
    "gray_image.shape"
   ]
  },
  {
   "cell_type": "code",
   "execution_count": 31,
   "id": "45b71528-10be-4d99-aa43-033997fbc3c4",
   "metadata": {},
   "outputs": [
    {
     "data": {
      "text/plain": [
       "<matplotlib.image.AxesImage at 0x17925de20>"
      ]
     },
     "execution_count": 31,
     "metadata": {},
     "output_type": "execute_result"
    }
   ],
   "source": [
    "# É possível redimensionar uma imagem, reduzindo sua qualidade, mas mantendo suas características:\n",
    "img_gray_small = cv.resize(gray_image, (50, 50))\n",
    "plt.imshow(img_gray_small, cmap='gray')\n"
   ]
  },
  {
   "cell_type": "code",
   "execution_count": 33,
   "id": "38a7a093-9cb0-423c-a499-b99da547d492",
   "metadata": {},
   "outputs": [
    {
     "data": {
      "text/plain": [
       "<matplotlib.image.AxesImage at 0x179442ba0>"
      ]
     },
     "execution_count": 33,
     "metadata": {},
     "output_type": "execute_result"
    }
   ],
   "source": [
    "# Recortando uma região específica:\n",
    "recorte = gray_image[50:200, 100:300]  # Linhas de 50 a 200, colunas de 100 a 300\n",
    "plt.imshow(recorte, cmap='gray')\n"
   ]
  },
  {
   "cell_type": "code",
   "execution_count": 35,
   "id": "f94c8ec2-80d4-4923-983a-1bed077aedbb",
   "metadata": {},
   "outputs": [
    {
     "data": {
      "text/plain": [
       "<matplotlib.image.AxesImage at 0x17943fe30>"
      ]
     },
     "execution_count": 35,
     "metadata": {},
     "output_type": "execute_result"
    }
   ],
   "source": [
    "plt.imshow(gray_image[:,:300], cmap='gray')"
   ]
  },
  {
   "cell_type": "code",
   "execution_count": null,
   "id": "ac92c6e8-d8f7-4c47-b2bc-a36e4a670405",
   "metadata": {},
   "outputs": [],
   "source": []
  }
 ],
 "metadata": {
  "kernelspec": {
   "display_name": "Python [conda env:base] *",
   "language": "python",
   "name": "conda-base-py"
  },
  "language_info": {
   "codemirror_mode": {
    "name": "ipython",
    "version": 3
   },
   "file_extension": ".py",
   "mimetype": "text/x-python",
   "name": "python",
   "nbconvert_exporter": "python",
   "pygments_lexer": "ipython3",
   "version": "3.12.7"
  }
 },
 "nbformat": 4,
 "nbformat_minor": 5
}
