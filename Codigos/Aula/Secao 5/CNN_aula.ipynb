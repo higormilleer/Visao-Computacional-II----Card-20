{
 "cells": [
  {
   "cell_type": "code",
   "execution_count": 2,
   "id": "94d0cb95-b43a-4b63-a124-90d405b7c425",
   "metadata": {},
   "outputs": [
    {
     "data": {
      "text/plain": [
       "torch.Size([2, 4, 4])"
      ]
     },
     "execution_count": 2,
     "metadata": {},
     "output_type": "execute_result"
    }
   ],
   "source": [
    "import torch\n",
    "device = 'cpu'\n",
    "\n",
    "X_train = torch.tensor([[[4, 5, 6, 7], [5, 6, 7, 8], [8, 9, 10, 11], [4, 6, 7, 8]], \n",
    "                        [[-4, 5, 6, -7], [5, -6, 7, 8], [-8, 9, -10, 11], [-4, -6, 7, -8]]]).float().to(device)\n",
    "X_train.div_(8)\n",
    "y_train = torch.tensor([0, 1]).float().to(device)\n",
    "\n",
    "X_train.shape"
   ]
  },
  {
   "cell_type": "code",
   "execution_count": 4,
   "id": "3c953b10-72db-4f53-a2b7-eab3826f7c7b",
   "metadata": {},
   "outputs": [
    {
     "data": {
      "text/plain": [
       "torch.Size([2])"
      ]
     },
     "execution_count": 4,
     "metadata": {},
     "output_type": "execute_result"
    }
   ],
   "source": [
    "y_train.shape"
   ]
  },
  {
   "cell_type": "code",
   "execution_count": 6,
   "id": "e86b4ee9-698c-49ee-b768-f12bcb4d7482",
   "metadata": {},
   "outputs": [],
   "source": [
    "import torch\n",
    "import torch.nn as nn\n",
    "from torch.optim import Adam\n",
    "\n",
    "def get_model():\n",
    "    model = nn.Sequential(\n",
    "        nn.Conv2d(in_channels=1, out_channels=1, kernel_size=3),\n",
    "        nn.MaxPool2d(kernel_size=2),\n",
    "        nn.ReLU(),\n",
    "        nn.Flatten(),\n",
    "        nn.Linear(1, 1),\n",
    "        nn.Sigmoid()\n",
    "    ).to(device)\n",
    "    \n",
    "    loss_fn = nn.BCELoss()\n",
    "    optimizer = Adam(model.parameters(), lr=0.01)\n",
    "    \n",
    "    return model, loss_fn, optimizer"
   ]
  },
  {
   "cell_type": "code",
   "execution_count": 9,
   "id": "ea84e89e-7071-4483-9cbf-0e4a79817536",
   "metadata": {},
   "outputs": [
    {
     "data": {
      "text/plain": [
       "Sequential(\n",
       "  (0): Conv2d(1, 1, kernel_size=(3, 3), stride=(1, 1))\n",
       "  (1): MaxPool2d(kernel_size=2, stride=2, padding=0, dilation=1, ceil_mode=False)\n",
       "  (2): ReLU()\n",
       "  (3): Flatten(start_dim=1, end_dim=-1)\n",
       "  (4): Linear(in_features=1, out_features=1, bias=True)\n",
       "  (5): Sigmoid()\n",
       ")"
      ]
     },
     "execution_count": 9,
     "metadata": {},
     "output_type": "execute_result"
    }
   ],
   "source": [
    "model, criterion, optimizer = get_model()\n",
    "model"
   ]
  },
  {
   "cell_type": "code",
   "execution_count": 11,
   "id": "03dbc86d-69ed-47fa-b6e7-ff9a995390fa",
   "metadata": {},
   "outputs": [],
   "source": [
    "def train_batch(x,y,model,optimizer,loss_fn):\n",
    "    model.train()\n",
    "    optimizer.zero_grad()\n",
    "    prediction = model(x)\n",
    "    batch_loss = loss_fn(prediction.squeeze(), y.squeeze())\n",
    "    batch_loss.backward()\n",
    "    optimizer.step()\n",
    "    return batch_loss.item()"
   ]
  },
  {
   "cell_type": "code",
   "execution_count": 13,
   "id": "fd6cd376-f75d-4e99-9ca9-371d25e949ab",
   "metadata": {},
   "outputs": [],
   "source": [
    "from torch.utils.data import TensorDataset, Dataset, DataLoader\n",
    "\n",
    "trn_dl = DataLoader(TensorDataset(X_train,y_train))\n",
    "\n",
    "for epoch in range(2000):\n",
    "    for ix, batch in enumerate(trn_dl):\n",
    "        x,y = batch\n",
    "        x = x.to(device)\n",
    "        y = y.to(device)\n",
    "        batch_loss = train_batch(x,y,model,optimizer,criterion)"
   ]
  },
  {
   "cell_type": "code",
   "execution_count": 14,
   "id": "d900568f-4218-47fd-bc5b-7f03c55c7b78",
   "metadata": {},
   "outputs": [
    {
     "data": {
      "text/plain": [
       "tensor([[0.5001]], grad_fn=<SigmoidBackward0>)"
      ]
     },
     "execution_count": 14,
     "metadata": {},
     "output_type": "execute_result"
    }
   ],
   "source": [
    "model(X_train[:1])"
   ]
  },
  {
   "cell_type": "code",
   "execution_count": null,
   "id": "fa57fb70-2293-4d65-a607-d73d10635701",
   "metadata": {},
   "outputs": [],
   "source": []
  }
 ],
 "metadata": {
  "kernelspec": {
   "display_name": "Python [conda env:base] *",
   "language": "python",
   "name": "conda-base-py"
  },
  "language_info": {
   "codemirror_mode": {
    "name": "ipython",
    "version": 3
   },
   "file_extension": ".py",
   "mimetype": "text/x-python",
   "name": "python",
   "nbconvert_exporter": "python",
   "pygments_lexer": "ipython3",
   "version": "3.12.7"
  }
 },
 "nbformat": 4,
 "nbformat_minor": 5
}
