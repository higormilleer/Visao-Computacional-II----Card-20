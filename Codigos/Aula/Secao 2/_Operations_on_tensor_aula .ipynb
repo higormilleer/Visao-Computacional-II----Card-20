{
 "cells": [
  {
   "cell_type": "code",
   "execution_count": 3,
   "id": "7f7cdc7e-1b83-40ed-a054-88685d7e7587",
   "metadata": {},
   "outputs": [],
   "source": [
    "import torch"
   ]
  },
  {
   "cell_type": "code",
   "execution_count": 4,
   "id": "cc239278-be23-41c4-b941-7241db887027",
   "metadata": {},
   "outputs": [
    {
     "data": {
      "text/plain": [
       "torch.Size([2, 4])"
      ]
     },
     "execution_count": 4,
     "metadata": {},
     "output_type": "execute_result"
    }
   ],
   "source": [
    "x = torch.tensor([[1,2,3,4],[5,6,7,8]])\n",
    "x.shape"
   ]
  },
  {
   "cell_type": "code",
   "execution_count": 7,
   "id": "32f165cd-21ad-47a3-a63c-a42df22e6df3",
   "metadata": {},
   "outputs": [
    {
     "data": {
      "text/plain": [
       "tensor([[10, 20, 30, 40],\n",
       "        [50, 60, 70, 80]])"
      ]
     },
     "execution_count": 7,
     "metadata": {},
     "output_type": "execute_result"
    }
   ],
   "source": [
    "c"
   ]
  },
  {
   "cell_type": "code",
   "execution_count": 9,
   "id": "c390c454-d86e-4490-afc7-159a93c220dd",
   "metadata": {},
   "outputs": [
    {
     "data": {
      "text/plain": [
       "tensor([[11, 12, 13, 14],\n",
       "        [15, 16, 17, 18]])"
      ]
     },
     "execution_count": 9,
     "metadata": {},
     "output_type": "execute_result"
    }
   ],
   "source": [
    "x.add(10)"
   ]
  },
  {
   "cell_type": "code",
   "execution_count": 11,
   "id": "107c048b-900f-41cf-9d89-7391eb6d4414",
   "metadata": {},
   "outputs": [
    {
     "data": {
      "text/plain": [
       "torch.Size([2, 4])"
      ]
     },
     "execution_count": 11,
     "metadata": {},
     "output_type": "execute_result"
    }
   ],
   "source": [
    "x.shape"
   ]
  },
  {
   "cell_type": "code",
   "execution_count": 13,
   "id": "08acdc06-39a6-4e64-abb7-c7579958e882",
   "metadata": {},
   "outputs": [
    {
     "data": {
      "text/plain": [
       "tensor([[1, 2],\n",
       "        [3, 4],\n",
       "        [5, 6],\n",
       "        [7, 8]])"
      ]
     },
     "execution_count": 13,
     "metadata": {},
     "output_type": "execute_result"
    }
   ],
   "source": [
    "x.view(4,2) #muda as dimensoes"
   ]
  },
  {
   "cell_type": "code",
   "execution_count": 15,
   "id": "7725c230-1f9f-41c7-8c8f-a1ed5a3a149a",
   "metadata": {},
   "outputs": [
    {
     "data": {
      "text/plain": [
       "tensor([[[1., 1., 1., 1., 1., 1., 1., 1., 1., 1.]],\n",
       "\n",
       "        [[1., 1., 1., 1., 1., 1., 1., 1., 1., 1.]]])"
      ]
     },
     "execution_count": 15,
     "metadata": {},
     "output_type": "execute_result"
    }
   ],
   "source": [
    "a = torch.ones(2,1,10) # creating a 2x1x10 tensor full of 1's\n",
    "a"
   ]
  },
  {
   "cell_type": "code",
   "execution_count": 17,
   "id": "8f3ecfc9-c974-4167-9eb3-bdc15cefc19e",
   "metadata": {},
   "outputs": [
    {
     "name": "stdout",
     "output_type": "stream",
     "text": [
      "Esta é a forma (shape) antes de aplicar o squeeze: torch.Size([2, 1, 10])\n",
      "Esta é a forma (shape) depois de aplicar o squeeze: torch.Size([2, 10])\n"
     ]
    }
   ],
   "source": [
    "print(f\"Esta é a forma (shape) antes de aplicar o squeeze: {a.shape}\")\n",
    "squeezed = a.squeeze(1)\n",
    "print(f\"Esta é a forma (shape) depois de aplicar o squeeze: {squeezed.shape}\")\n",
    "\n",
    "# O resultado é o mesmo tensor, mas sem a i-ésima dimensão (neste caso, a primeira dimensão, considerando\n",
    "# que a contagem começa a partir de zero).\n"
   ]
  },
  {
   "cell_type": "code",
   "execution_count": 19,
   "id": "bf57f395-d5bb-4459-855f-ac60d05a283c",
   "metadata": {},
   "outputs": [],
   "source": [
    "x = torch.tensor([[1,2,3,4],[5,6,7,8]]) # Shape = (2,4)\n",
    "y = torch.tensor([[1,2,3],\n",
    "                  [4,5,6],\n",
    "                  [7,8,9],\n",
    "                  [10,11,12]]) # Shape = (4,3)"
   ]
  },
  {
   "cell_type": "code",
   "execution_count": 21,
   "id": "6e650d28-4686-4a6f-82af-f6bcbe8a361b",
   "metadata": {},
   "outputs": [
    {
     "data": {
      "text/plain": [
       "tensor([[ 70,  80,  90],\n",
       "        [158, 184, 210]])"
      ]
     },
     "execution_count": 21,
     "metadata": {},
     "output_type": "execute_result"
    }
   ],
   "source": [
    "torch.matmul(x,y)"
   ]
  },
  {
   "cell_type": "code",
   "execution_count": 23,
   "id": "9eb8914a-b1b7-4bd5-931b-282c000e9207",
   "metadata": {},
   "outputs": [
    {
     "name": "stdout",
     "output_type": "stream",
     "text": [
      "Concatenated axis 1: torch.Size([1, 4, 5]) torch.Size([1, 8, 5])\n"
     ]
    }
   ],
   "source": [
    "x = torch.randn(1,4,5)\n",
    "z = torch.cat([x,x], axis = 1)\n",
    "print('Concatenated axis 1:', x.shape, z.shape)"
   ]
  },
  {
   "cell_type": "code",
   "execution_count": 25,
   "id": "4707e6b1-cbdc-4975-858f-64542a75ffa4",
   "metadata": {},
   "outputs": [
    {
     "name": "stdout",
     "output_type": "stream",
     "text": [
      "Permute dimensions: torch.Size([3, 20, 10]) torch.Size([10, 3, 20])\n"
     ]
    }
   ],
   "source": [
    "x = torch.randn(3,20,10)\n",
    "z = x.permute(2,0,1) # changes the dimensions of the first elemento to the last, last to the second, etc\n",
    "print('Permute dimensions:', x.shape, z.shape)"
   ]
  },
  {
   "cell_type": "code",
   "execution_count": null,
   "id": "4c9ab2e9-ff3f-4667-8a42-2499d82610dd",
   "metadata": {},
   "outputs": [],
   "source": []
  }
 ],
 "metadata": {
  "kernelspec": {
   "display_name": "Python [conda env:base] *",
   "language": "python",
   "name": "conda-base-py"
  },
  "language_info": {
   "codemirror_mode": {
    "name": "ipython",
    "version": 3
   },
   "file_extension": ".py",
   "mimetype": "text/x-python",
   "name": "python",
   "nbconvert_exporter": "python",
   "pygments_lexer": "ipython3",
   "version": "3.12.7"
  }
 },
 "nbformat": 4,
 "nbformat_minor": 5
}
