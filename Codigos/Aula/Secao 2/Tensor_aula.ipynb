{
 "cells": [
  {
   "cell_type": "code",
   "execution_count": 2,
   "id": "fa880ac0-e28f-4976-979d-8c9376e027f5",
   "metadata": {},
   "outputs": [],
   "source": [
    "import torch"
   ]
  },
  {
   "cell_type": "code",
   "execution_count": 4,
   "id": "7da73328-4daf-459d-bfb6-c61563a69aaa",
   "metadata": {},
   "outputs": [
    {
     "data": {
      "text/plain": [
       "torch.Size([2])"
      ]
     },
     "execution_count": 4,
     "metadata": {},
     "output_type": "execute_result"
    }
   ],
   "source": [
    "sample = torch.tensor([10,11])\n",
    "sample.shape"
   ]
  },
  {
   "cell_type": "code",
   "execution_count": 6,
   "id": "2a9f69c3-ced0-40dc-bf20-cdb10fe352cb",
   "metadata": {},
   "outputs": [
    {
     "data": {
      "text/plain": [
       "torch.Size([2, 2])"
      ]
     },
     "execution_count": 6,
     "metadata": {},
     "output_type": "execute_result"
    }
   ],
   "source": [
    "x = torch.tensor([[10,11],[1,2]])\n",
    "x.shape"
   ]
  },
  {
   "cell_type": "code",
   "execution_count": 8,
   "id": "62c91a6f-dff5-4712-86df-605553e19f75",
   "metadata": {},
   "outputs": [
    {
     "data": {
      "text/plain": [
       "torch.Size([2, 1])"
      ]
     },
     "execution_count": 8,
     "metadata": {},
     "output_type": "execute_result"
    }
   ],
   "source": [
    "y = torch.tensor([[10],[11]])\n",
    "y.shape"
   ]
  },
  {
   "cell_type": "code",
   "execution_count": 10,
   "id": "3cd2e8d4-0949-4d57-a5bd-1aef44eb9da4",
   "metadata": {},
   "outputs": [
    {
     "data": {
      "text/plain": [
       "'tensor.html'"
      ]
     },
     "execution_count": 10,
     "metadata": {},
     "output_type": "execute_result"
    }
   ],
   "source": [
    "import plotly.graph_objs as go\n",
    "import plotly.offline as pyo\n",
    "\n",
    "# Creating a 3-dimensional tensor:\n",
    "\n",
    "a = torch.tensor([[[1,2], [3,4]],[[5,6],[7,8]]])\n",
    "\n",
    "# Setting the lists that are going to store the values for each dimension in the tensor.\n",
    "\n",
    "x_vals = []\n",
    "y_vals = []\n",
    "z_vals = []\n",
    "\n",
    "for i in range (a.shape[0]):\n",
    "    for j in range (a.shape[1]):\n",
    "        for k in range (a.shape[2]):\n",
    "            x_vals.append(i)\n",
    "            y_vals.append(j)\n",
    "            z_vals.append(k)\n",
    "\n",
    "# Creating a plotly 3d scatter plot for better visualization:\n",
    "\n",
    "trace = go.Scatter3d(\n",
    "    x = x_vals,\n",
    "    y = y_vals,\n",
    "    z = z_vals,\n",
    "    mode = 'markers',\n",
    "    marker = dict(\n",
    "        size = 5,\n",
    "        color = a.flatten(),\n",
    "        colorscale = 'Viridis',\n",
    "        opacity = 0.8\n",
    "    )\n",
    ")\n",
    "\n",
    "# Creating the plot layout:\n",
    "\n",
    "layout = go.Layout(\n",
    "    margin = dict(l=0,r=0,b=0,t=0),\n",
    "    scene = dict(\n",
    "        xaxis = dict(title='Dimension 1'),\n",
    "        yaxis = dict(title='Dimension 2'),\n",
    "        zaxis = dict(title='Dimension 3')\n",
    "    )\n",
    ")\n",
    "\n",
    "fig = go.Figure(data = [trace], layout = layout)\n",
    "pyo.plot(fig, filename='tensor_pratica.html')"
   ]
  },
  {
   "cell_type": "code",
   "execution_count": null,
   "id": "f98d3be9-3eb7-4d0e-b514-2ed938b6907d",
   "metadata": {},
   "outputs": [],
   "source": []
  }
 ],
 "metadata": {
  "kernelspec": {
   "display_name": "Python [conda env:base] *",
   "language": "python",
   "name": "conda-base-py"
  },
  "language_info": {
   "codemirror_mode": {
    "name": "ipython",
    "version": 3
   },
   "file_extension": ".py",
   "mimetype": "text/x-python",
   "name": "python",
   "nbconvert_exporter": "python",
   "pygments_lexer": "ipython3",
   "version": "3.12.7"
  }
 },
 "nbformat": 4,
 "nbformat_minor": 5
}
