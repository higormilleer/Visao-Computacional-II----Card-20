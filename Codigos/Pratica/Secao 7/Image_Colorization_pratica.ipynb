{
 "cells": [
  {
   "cell_type": "code",
   "execution_count": 2,
   "id": "4a4fa828-7573-4469-b5c5-108a9499645a",
   "metadata": {},
   "outputs": [
    {
     "name": "stdout",
     "output_type": "stream",
     "text": [
      "Files already downloaded and verified\n"
     ]
    },
    {
     "data": {
      "text/plain": [
       "Dataset CIFAR10\n",
       "    Number of datapoints: 50000\n",
       "    Root location: /Users/heloamillergrassi/CIFAR/\n",
       "    Split: Train"
      ]
     },
     "execution_count": 2,
     "metadata": {},
     "output_type": "execute_result"
    }
   ],
   "source": [
    "from torch_snippets import *\n",
    "device = 'cpu'\n",
    "from torchvision import datasets\n",
    "import torchvision\n",
    "import torch\n",
    "import torch.nn as nn\n",
    "\n",
    "data_folder = '~/CIFAR/'\n",
    "datasets.CIFAR10(data_folder, download=True)"
   ]
  },
  {
   "cell_type": "code",
   "execution_count": 3,
   "id": "0acf95d7-0f55-4444-b169-e02c22ef72eb",
   "metadata": {},
   "outputs": [],
   "source": [
    "from torch.utils.data import Dataset, DataLoader\n",
    "\n",
    "class Colorize(torchvision.datasets.CIFAR10):\n",
    "    def __init__(self, root, train):\n",
    "        super().__init__(root,train)\n",
    "    def __getitem__(self,ix):\n",
    "        im,_ = super().__getitem__(ix)\n",
    "        bw = im.convert('L').convert('RGB')\n",
    "        bw, im = np.array(bw)/255., np.array(im)/255.\n",
    "        bw, im = [torch.tensor(i).permute(2,0,1).to(device).float() for i in [bw,im]]\n",
    "        return bw, im\n",
    "\n",
    "trn_ds = Colorize(data_folder, train=True)\n",
    "val_ds = Colorize(data_folder, train=False)\n",
    "\n",
    "trn_dl = DataLoader(trn_ds, batch_size=256, shuffle=True)\n",
    "val_dl = DataLoader(val_ds, batch_size=256, shuffle=False)"
   ]
  },
  {
   "cell_type": "code",
   "execution_count": 8,
   "id": "e260b46b-1abe-409f-97fb-1aa25cdf6e18",
   "metadata": {},
   "outputs": [
    {
     "data": {
      "image/png": "[encoded data removed]",
      "text/plain": [
       "<Figure size 500x500 with 2 Axes>"
      ]
     },
     "metadata": {},
     "output_type": "display_data"
    }
   ],
   "source": [
    "a,b = trn_ds[40]\n",
    "subplots([a,b], nc=2)"
   ]
  },
  {
   "cell_type": "code",
   "execution_count": 10,
   "id": "1a8168ae-6877-43b9-99f8-fb916cf6c431",
   "metadata": {},
   "outputs": [],
   "source": [
    "class Identity(nn.Module):\n",
    "    def __init__(self):\n",
    "        super().__init__()\n",
    "    def forward(self, x):\n",
    "        return x\n",
    "\n",
    "class DownConv(nn.Module):\n",
    "    def __init__(self, ni, no, maxpool=True):\n",
    "        super().__init__()\n",
    "        self.model = nn.Sequential(\n",
    "            nn.MaxPool2d(2) if maxpool else Identity(),\n",
    "            nn.Conv2d(ni, no, 3, padding=1),\n",
    "            nn.BatchNorm2d(no),\n",
    "            nn.LeakyReLU(0.2, inplace=True),\n",
    "            nn.Conv2d(no,no,3,padding=1),\n",
    "            nn.BatchNorm2d(no),\n",
    "            nn.LeakyReLU(0.2, inplace=True),\n",
    "        )\n",
    "    def forward(self, x):\n",
    "        return self.model(x)\n",
    "\n",
    "class UpConv(nn.Module):\n",
    "    def __init__(self, ni, no, maxpool=True):\n",
    "        super().__init__()\n",
    "        self.convtranspose = nn.ConvTranspose2d(ni, no, 2, stride=2)\n",
    "        self.convlayers = nn.Sequential(\n",
    "            nn.Conv2d(no+no, no, 3, padding=1),\n",
    "            nn.BatchNorm2d(no),\n",
    "            nn.LeakyReLU(0.2, inplace=True),\n",
    "            nn.Conv2d(no, no, 3, padding=1),\n",
    "            nn.BatchNorm2d(no),\n",
    "            nn.LeakyReLU(0.2, inplace=True),\n",
    "        )\n",
    "    def forward(self, x, y):\n",
    "        x = self.convtranspose(x)\n",
    "        x = torch.cat([x,y], axis=1)\n",
    "        x = self.convlayers(x)\n",
    "        return x\n",
    "\n",
    "class UNet(nn.Module):\n",
    "    def __init__(self):\n",
    "        super().__init__()\n",
    "        # Down-sampling layers\n",
    "        self.d1 = DownConv(3, 64, maxpool=False)\n",
    "        self.d2 = DownConv(64, 128)\n",
    "        self.d3 = DownConv(128, 256)\n",
    "        self.d4 = DownConv(256, 512)\n",
    "        self.d5 = DownConv(512, 1024)\n",
    "        \n",
    "        # Up-sampling layers\n",
    "        self.u5 = UpConv(1024, 512)\n",
    "        self.u4 = UpConv(512, 256)\n",
    "        self.u3 = UpConv(256, 128)\n",
    "        self.u2 = UpConv(128, 64)\n",
    "        \n",
    "        # Final output layer\n",
    "        self.u1 = nn.Conv2d(64, 3, kernel_size=1, stride=1)\n",
    "    \n",
    "    def forward(self, x):\n",
    "        # Down-sampling\n",
    "        x0 = self.d1(x)\n",
    "        x1 = self.d2(x0)\n",
    "        x2 = self.d3(x1)\n",
    "        x3 = self.d4(x2)\n",
    "        x4 = self.d5(x3)\n",
    "        \n",
    "        # Up-sampling\n",
    "        X4 = self.u5(x4, x3)\n",
    "        X3 = self.u4(X4, x2)\n",
    "        X2 = self.u3(X3, x1)\n",
    "        X1 = self.u2(X2, x0)\n",
    "        X0 = self.u1(X1)\n",
    "        \n",
    "        return X0"
   ]
  },
  {
   "cell_type": "code",
   "execution_count": 12,
   "id": "4cee91fb-7b50-4acc-9956-6d27c84dfb67",
   "metadata": {},
   "outputs": [],
   "source": [
    "from torch import optim\n",
    "\n",
    "def get_model():\n",
    "    model = UNet().to(device)\n",
    "    optimizer = optim.Adam(model.parameters(), lr=1e-3)\n",
    "    loss_fn = nn.MSELoss()\n",
    "    return model, optimizer, loss_fn\n",
    "\n",
    "def train_batch(model, data, optimizer, criterion):\n",
    "    model.train()  # Define o modelo para o modo de treinamento\n",
    "    x, y = data  # Desempacota os dados de entrada (x) e os alvos (y)\n",
    "    _y = model(x)  # Gera as previsões\n",
    "    optimizer.zero_grad()  # Limpa os gradientes acumulados anteriormente\n",
    "    loss = criterion(_y, y)  # Calcula a perda\n",
    "    loss.backward()  # Calcula os gradientes\n",
    "    optimizer.step()  # Atualiza os pesos do modelo\n",
    "    return loss.item()  # Retorna a perda como um escalar\n",
    "\n",
    "@torch.no_grad()  # Desabilita os cálculos de gradientes\n",
    "def validate_batch(model, data, criterion):\n",
    "    model.eval()  # Define o modelo para o modo de avaliação\n",
    "    x, y = data  # Desempacota os dados de entrada (x) e os alvos (y)\n",
    "    _y = model(x)  # Gera as previsões\n",
    "    loss = criterion(_y, y)  # Calcula a perda\n",
    "    return loss.item()  # Retorna a perda como um escalar\n"
   ]
  },
  {
   "cell_type": "code",
   "execution_count": null,
   "id": "785b3702-8c7d-4d13-8e87-566a47b2ac2c",
   "metadata": {},
   "outputs": [],
   "source": [
    "model, optimizer, criterion = get_model()\n",
    "exp_lr_scheduler = optim.lr_scheduler.StepLR(optimizer, step_size=10, gamma=0.1)\n",
    "\n",
    "_val_dl = DataLoader(val_ds, batch_size=1, shuffle=True)\n",
    "\n",
    "n_epochs = 100\n",
    "for ex in range(n_epochs):\n",
    "    N = len(trn_dl)\n",
    "    for bx, data in enumerate(trn_dl):\n",
    "        loss = train_batch(model, data, optimizer, criterion)\n",
    "        if(bx+1)%50 == 0:\n",
    "            for _ in range(5):\n",
    "                a,b = next(iter(_val_dl))\n",
    "                _b = model(a)\n",
    "                subplots([a[0], b[0], _b[0]], nc=3, figsize=(5,5))\n",
    "    N = len(val_dl)\n",
    "    for bx, data in enumerate(val_dl):\n",
    "        loss = validate_batch(model, data, criterion)\n",
    "    exp_lr_scheduler.step()\n",
    "    for _ in range(5):\n",
    "        a,b = next(iter(_val_dl))\n",
    "        _b = model(a)\n",
    "        subplots([a[0],b[0],_b[0]], nc=3, figsize=(5,5))"
   ]
  },
  {
   "cell_type": "code",
   "execution_count": null,
   "id": "688cdb28-570d-4eb4-ad9d-b124949c456b",
   "metadata": {},
   "outputs": [],
   "source": []
  }
 ],
 "metadata": {
  "kernelspec": {
   "display_name": "Python [conda env:base] *",
   "language": "python",
   "name": "conda-base-py"
  },
  "language_info": {
   "codemirror_mode": {
    "name": "ipython",
    "version": 3
   },
   "file_extension": ".py",
   "mimetype": "text/x-python",
   "name": "python",
   "nbconvert_exporter": "python",
   "pygments_lexer": "ipython3",
   "version": "3.12.7"
  }
 },
 "nbformat": 4,
 "nbformat_minor": 5
}
