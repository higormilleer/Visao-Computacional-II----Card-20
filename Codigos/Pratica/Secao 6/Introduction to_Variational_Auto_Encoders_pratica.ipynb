{
 "cells": [
  {
   "cell_type": "code",
   "execution_count": 2,
   "id": "decba1aa-97ce-41ca-b6e0-14230ef1ebac",
   "metadata": {},
   "outputs": [],
   "source": [
    "import torch\n",
    "import torch.nn as nn\n",
    "import torch.nn.functional as F\n",
    "from torch.autograd import Variable\n",
    "\n",
    "class VAE(nn.Module):\n",
    "    def __init__(self):\n",
    "        super(VAE, self).__init__()\n",
    "\n",
    "        # Encoder network\n",
    "        self.conv1 = nn.Conv2d(1, 32, kernel_size=3, stride=2, padding=1)\n",
    "        self.conv2 = nn.Conv2d(32, 64, kernel_size=3, stride=2, padding=1)\n",
    "        self.fc1 = nn.Linear(64 * 7 * 7, 256)\n",
    "        self.fc21 = nn.Linear(256, 20)  # mu\n",
    "        self.fc22 = nn.Linear(256, 20)  # logvar\n",
    "\n",
    "        # Decoder network\n",
    "        self.fc3 = nn.Linear(20, 256)\n",
    "        self.fc4 = nn.Linear(256, 64 * 7 * 7)\n",
    "        self.deconv1 = nn.ConvTranspose2d(64, 32, kernel_size=3, stride=2, padding=1, output_padding=1)\n",
    "        self.deconv2 = nn.ConvTranspose2d(32, 1, kernel_size=3, stride=2, padding=1, output_padding=1)\n",
    "\n",
    "    def encode(self, x):\n",
    "        x = F.relu(self.conv1(x))\n",
    "        x = F.relu(self.conv2(x))\n",
    "        x = x.view(x.size(0), -1)\n",
    "        x = F.relu(self.fc1(x))\n",
    "        mu = self.fc21(x)\n",
    "        logvar = self.fc22(x)\n",
    "        return mu, logvar\n",
    "\n",
    "    def reparameterize(self, mu, logvar):\n",
    "        if self.training:\n",
    "            std = torch.exp(0.5 * logvar)\n",
    "            eps = Variable(torch.randn(std.size()).cuda())\n",
    "            return eps.mul(std).add_(mu)\n",
    "        else:\n",
    "            return mu\n",
    "\n",
    "    def decode(self, z):\n",
    "        z = F.relu(self.fc3(z))\n",
    "        z = F.relu(self.fc4(z))\n",
    "        z = z.view(z.size(0), 64, 7, 7)\n",
    "        z = F.relu(self.deconv1(z))\n",
    "        z = torch.sigmoid(self.deconv2(z))\n",
    "        return z\n",
    "\n",
    "    def forward(self, x):\n",
    "        mu, logvar = self.encode(x)\n",
    "        z = self.reparameterize(mu, logvar)\n",
    "        z = self.decode(z)\n",
    "        return z, mu, logvar\n"
   ]
  },
  {
   "cell_type": "code",
   "execution_count": 4,
   "id": "8b3839e7-5450-4e51-a245-535a9de4169b",
   "metadata": {},
   "outputs": [],
   "source": [
    "def train_batch(data,model,optimizer,loss_function):\n",
    "    model.train()\n",
    "    data = data.to(device)\n",
    "    optimizer.zero_grad()\n",
    "    recon_batch, mean, log_var = model(data)\n",
    "    loss,mse,kld = loss_function(recon_batch, data, mean, log_var)\n",
    "    loss.backward()\n",
    "    optimizer.step()\n",
    "    return loss, mse, kld, log_var.mean(), mean.mean()\n",
    "\n",
    "@torch.no_grad()\n",
    "def validate_batch(data,model,loss_function):\n",
    "    model.eval()\n",
    "    data = data.to(device)\n",
    "    recon,mean,log_var = model(data)\n",
    "    loss, mse, kld = loss_function(recon,data,mean,log_var)\n",
    "    return loss, mse, kld, log_var.mean(), mean.mean()"
   ]
  },
  {
   "cell_type": "code",
   "execution_count": 6,
   "id": "041288be-2710-48c6-b2a2-2378b51a6ef1",
   "metadata": {},
   "outputs": [],
   "source": [
    "def loss_function(recon_x, x, mean, log_var):\n",
    "    RECON = F.mse_loss(recon_x, x, reduction='sum')\n",
    "    KLD = -0.5 * torch.sum(1+log_var-mean.pow(2) - log_var.exp())\n",
    "    return RECON + KLD, RECON, KLD"
   ]
  },
  {
   "cell_type": "code",
   "execution_count": 8,
   "id": "3ae3a9d0-c45e-446a-b690-dd406ba6eeb9",
   "metadata": {},
   "outputs": [],
   "source": [
    "class Report:\n",
    "    def __init__(self, n_epochs):\n",
    "        self.n_epochs = n_epochs\n",
    "        self.records = []\n",
    "\n",
    "    def record(self, pos, **kwargs):\n",
    "        self.records.append((pos, kwargs))\n",
    "\n",
    "    def report_avgs(self, epoch):\n",
    "        avg_records = {key: sum([rec[1].get(key, 0) for rec in self.records])/len(self.records)\n",
    "                       for key in self.records[0][1].keys()}\n",
    "        print(f\"Epoch {epoch} averages:\")\n",
    "        for key, value in avg_records.items():\n",
    "            print(f\"{key}: {value:.4f}\")\n",
    "        self.records.clear()"
   ]
  },
  {
   "cell_type": "code",
   "execution_count": null,
   "id": "e24a7172-c948-477f-9e43-cdeb166d9e2f",
   "metadata": {},
   "outputs": [],
   "source": []
  }
 ],
 "metadata": {
  "kernelspec": {
   "display_name": "Python [conda env:base] *",
   "language": "python",
   "name": "conda-base-py"
  },
  "language_info": {
   "codemirror_mode": {
    "name": "ipython",
    "version": 3
   },
   "file_extension": ".py",
   "mimetype": "text/x-python",
   "name": "python",
   "nbconvert_exporter": "python",
   "pygments_lexer": "ipython3",
   "version": "3.12.7"
  }
 },
 "nbformat": 4,
 "nbformat_minor": 5
}
