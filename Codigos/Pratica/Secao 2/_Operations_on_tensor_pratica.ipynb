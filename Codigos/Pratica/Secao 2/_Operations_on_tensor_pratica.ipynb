{
 "cells": [
  {
   "cell_type": "code",
   "execution_count": 2,
   "id": "fae7e2d8-50e0-4429-b786-0f63a789c364",
   "metadata": {},
   "outputs": [],
   "source": [
    "import torch"
   ]
  },
  {
   "cell_type": "code",
   "execution_count": 8,
   "id": "915c4585-c130-47f1-abf4-e32a5f24d7c9",
   "metadata": {},
   "outputs": [
    {
     "data": {
      "text/plain": [
       "torch.Size([2, 4])"
      ]
     },
     "execution_count": 8,
     "metadata": {},
     "output_type": "execute_result"
    }
   ],
   "source": [
    "x = torch.tensor([[10,20,30,40],[50,60,70,80]])\n",
    "x.shape"
   ]
  },
  {
   "cell_type": "code",
   "execution_count": 10,
   "id": "423d9095-7876-4ed8-ab7b-0a86190e3470",
   "metadata": {},
   "outputs": [
    {
     "data": {
      "text/plain": [
       "torch.Size([2, 4])"
      ]
     },
     "execution_count": 10,
     "metadata": {},
     "output_type": "execute_result"
    }
   ],
   "source": [
    "x = torch.tensor([[10,20,30,40],[50,60,70,80]])\n",
    "x.shape"
   ]
  },
  {
   "cell_type": "code",
   "execution_count": 12,
   "id": "3ff2cf8f-f59a-4839-8ea9-0b7b9585b187",
   "metadata": {},
   "outputs": [
    {
     "data": {
      "text/plain": [
       "tensor([[20, 30, 40, 50],\n",
       "        [60, 70, 80, 90]])"
      ]
     },
     "execution_count": 12,
     "metadata": {},
     "output_type": "execute_result"
    }
   ],
   "source": [
    "x.add(10)"
   ]
  },
  {
   "cell_type": "code",
   "execution_count": 14,
   "id": "03053d32-7b35-473c-9dfa-ab822b42f060",
   "metadata": {},
   "outputs": [
    {
     "data": {
      "text/plain": [
       "torch.Size([2, 4])"
      ]
     },
     "execution_count": 14,
     "metadata": {},
     "output_type": "execute_result"
    }
   ],
   "source": [
    "x.shape"
   ]
  },
  {
   "cell_type": "code",
   "execution_count": 16,
   "id": "eb8c6a8f-1594-4b4c-ac88-51475c0b0d55",
   "metadata": {},
   "outputs": [
    {
     "data": {
      "text/plain": [
       "tensor([[10, 20],\n",
       "        [30, 40],\n",
       "        [50, 60],\n",
       "        [70, 80]])"
      ]
     },
     "execution_count": 16,
     "metadata": {},
     "output_type": "execute_result"
    }
   ],
   "source": [
    "x.view(4,2) #muda as dimensoes"
   ]
  },
  {
   "cell_type": "code",
   "execution_count": 18,
   "id": "ce09d3b0-60bb-4e66-b216-bb5776c3f0e5",
   "metadata": {},
   "outputs": [
    {
     "data": {
      "text/plain": [
       "tensor([[[1., 1., 1., 1., 1., 1., 1., 1., 1., 1.]],\n",
       "\n",
       "        [[1., 1., 1., 1., 1., 1., 1., 1., 1., 1.]]])"
      ]
     },
     "execution_count": 18,
     "metadata": {},
     "output_type": "execute_result"
    }
   ],
   "source": [
    "a = torch.ones(2,1,10) # creating a 2x1x10 tensor full of 1's\n",
    "a"
   ]
  },
  {
   "cell_type": "code",
   "execution_count": 20,
   "id": "12a7b7a2-f883-401e-90a7-79f98fa6d1a5",
   "metadata": {},
   "outputs": [],
   "source": [
    "x = torch.tensor([[10,20,30,40],[50,60,70,80]]) # Shape = (2,4)\n",
    "y = torch.tensor([[10,20,30],\n",
    "                  [40,50,60],\n",
    "                  [70,80,90],\n",
    "                  [100,110,120]]) # Shape = (4,3)"
   ]
  },
  {
   "cell_type": "code",
   "execution_count": 22,
   "id": "903e1fad-3d36-4a3f-94aa-513202df06b0",
   "metadata": {},
   "outputs": [
    {
     "data": {
      "text/plain": [
       "tensor([[ 7000,  8000,  9000],\n",
       "        [15800, 18400, 21000]])"
      ]
     },
     "execution_count": 22,
     "metadata": {},
     "output_type": "execute_result"
    }
   ],
   "source": [
    "torch.matmul(x,y)"
   ]
  },
  {
   "cell_type": "code",
   "execution_count": 24,
   "id": "f8c837e4-6c30-4a95-b4c4-fb32ba4957ce",
   "metadata": {},
   "outputs": [
    {
     "name": "stdout",
     "output_type": "stream",
     "text": [
      "Concatenated axis 1: torch.Size([1, 4, 5]) torch.Size([1, 8, 5])\n"
     ]
    }
   ],
   "source": [
    "x = torch.randn(1,4,5)\n",
    "z = torch.cat([x,x], axis = 1)\n",
    "print('Concatenated axis 1:', x.shape, z.shape)"
   ]
  },
  {
   "cell_type": "code",
   "execution_count": null,
   "id": "c25cdbf4-446f-462f-ace6-a75075dc9248",
   "metadata": {},
   "outputs": [],
   "source": []
  }
 ],
 "metadata": {
  "kernelspec": {
   "display_name": "Python [conda env:base] *",
   "language": "python",
   "name": "conda-base-py"
  },
  "language_info": {
   "codemirror_mode": {
    "name": "ipython",
    "version": 3
   },
   "file_extension": ".py",
   "mimetype": "text/x-python",
   "name": "python",
   "nbconvert_exporter": "python",
   "pygments_lexer": "ipython3",
   "version": "3.12.7"
  }
 },
 "nbformat": 4,
 "nbformat_minor": 5
}
