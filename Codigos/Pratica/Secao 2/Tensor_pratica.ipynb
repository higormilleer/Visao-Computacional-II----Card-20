{
 "cells": [
  {
   "cell_type": "code",
   "execution_count": 11,
   "id": "138c48e9-ad1a-4a1d-82fd-f4ad6741c08b",
   "metadata": {},
   "outputs": [],
   "source": [
    "import torch"
   ]
  },
  {
   "cell_type": "code",
   "execution_count": 13,
   "id": "59b28f0c-3e9d-46b0-aba2-0d54598d7661",
   "metadata": {},
   "outputs": [
    {
     "data": {
      "text/plain": [
       "torch.Size([2])"
      ]
     },
     "execution_count": 13,
     "metadata": {},
     "output_type": "execute_result"
    }
   ],
   "source": [
    "sample = torch.tensor([100,110])\n",
    "sample.shape"
   ]
  },
  {
   "cell_type": "code",
   "execution_count": 15,
   "id": "285fdc88-d558-44f4-9f29-12a28ac6ea2c",
   "metadata": {},
   "outputs": [
    {
     "data": {
      "text/plain": [
       "torch.Size([2, 2])"
      ]
     },
     "execution_count": 15,
     "metadata": {},
     "output_type": "execute_result"
    }
   ],
   "source": [
    "x = torch.tensor([[100,110],[10,20]])\n",
    "x.shape"
   ]
  },
  {
   "cell_type": "code",
   "execution_count": 17,
   "id": "b71cb8cc-04af-4158-bca7-094b8eb593a2",
   "metadata": {},
   "outputs": [
    {
     "data": {
      "text/plain": [
       "torch.Size([2, 1])"
      ]
     },
     "execution_count": 17,
     "metadata": {},
     "output_type": "execute_result"
    }
   ],
   "source": [
    "y = torch.tensor([[100],[110]])\n",
    "y.shape"
   ]
  },
  {
   "cell_type": "code",
   "execution_count": null,
   "id": "9ab9923d-f3ca-436e-91ff-339e72590864",
   "metadata": {},
   "outputs": [],
   "source": []
  },
  {
   "cell_type": "code",
   "execution_count": 24,
   "id": "57500047-edb6-4d88-b864-22c79c4760df",
   "metadata": {},
   "outputs": [
    {
     "data": {
      "text/plain": [
       "'tensor_pratica.html'"
      ]
     },
     "execution_count": 24,
     "metadata": {},
     "output_type": "execute_result"
    }
   ],
   "source": [
    "import plotly.graph_objs as go\n",
    "import plotly.offline as pyo\n",
    "\n",
    "# Creating a 3-dimensional tensor:\n",
    "\n",
    "a = torch.tensor([[[1,2], [3,4]],[[5,6],[7,8]]])\n",
    "\n",
    "# Setting the lists that are going to store the values for each dimension in the tensor.\n",
    "\n",
    "x_vals = []\n",
    "y_vals = []\n",
    "z_vals = []\n",
    "\n",
    "for i in range (a.shape[0]):\n",
    "    for j in range (a.shape[1]):\n",
    "        for k in range (a.shape[2]):\n",
    "            x_vals.append(i)\n",
    "            y_vals.append(j)\n",
    "            z_vals.append(k)\n",
    "\n",
    "# Creating a plotly 3d scatter plot for better visualization:\n",
    "\n",
    "trace = go.Scatter3d(\n",
    "    x = x_vals,\n",
    "    y = y_vals,\n",
    "    z = z_vals,\n",
    "    mode = 'markers',\n",
    "    marker = dict(\n",
    "        size = 5,\n",
    "        color = a.flatten(),\n",
    "        colorscale = 'Viridis',\n",
    "        opacity = 0.8\n",
    "    )\n",
    ")\n",
    "\n",
    "# Creating the plot layout:\n",
    "\n",
    "layout = go.Layout(\n",
    "    margin = dict(l=0,r=0,b=0,t=0),\n",
    "    scene = dict(\n",
    "        xaxis = dict(title='Dimension 1'),\n",
    "        yaxis = dict(title='Dimension 2'),\n",
    "        zaxis = dict(title='Dimension 3')\n",
    "    )\n",
    ")\n",
    "\n",
    "fig = go.Figure(data = [trace], layout = layout)\n",
    "pyo.plot(fig, filename='tensor_pratica.html')"
   ]
  },
  {
   "cell_type": "code",
   "execution_count": null,
   "id": "4ebe478f-53a0-407f-9a6b-698993a324b6",
   "metadata": {},
   "outputs": [],
   "source": []
  }
 ],
 "metadata": {
  "kernelspec": {
   "display_name": "Python [conda env:base] *",
   "language": "python",
   "name": "conda-base-py"
  },
  "language_info": {
   "codemirror_mode": {
    "name": "ipython",
    "version": 3
   },
   "file_extension": ".py",
   "mimetype": "text/x-python",
   "name": "python",
   "nbconvert_exporter": "python",
   "pygments_lexer": "ipython3",
   "version": "3.12.7"
  }
 },
 "nbformat": 4,
 "nbformat_minor": 5
}
