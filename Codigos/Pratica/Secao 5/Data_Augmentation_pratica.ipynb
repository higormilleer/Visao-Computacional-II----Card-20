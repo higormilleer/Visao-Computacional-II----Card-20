{
 "cells": [
  {
   "cell_type": "code",
   "execution_count": 2,
   "id": "7eec37a9-fb96-4526-920a-6fe4bd542058",
   "metadata": {},
   "outputs": [],
   "source": [
    "from torchvision import datasets\n",
    "import torch\n",
    "from torch.utils.data import Dataset, DataLoader\n",
    "import torch\n",
    "import torch.nn as nn\n",
    "import matplotlib.pyplot as plt\n",
    "%matplotlib inline\n",
    "import numpy as np\n",
    "\n",
    "device = 'cpu'\n",
    "data_folder = ''\n",
    "fmnist = datasets.FashionMNIST(data_folder, download=True, train=True)\n",
    "\n",
    "tr_images = fmnist.data\n",
    "tr_targets = fmnist.targets\n",
    "val_fmnist = datasets.FashionMNIST(data_folder,\n",
    "                                   download=True,\n",
    "                                   train=False)\n",
    "\n",
    "val_images = val_fmnist.data\n",
    "val_targets = val_fmnist.targets"
   ]
  },
  {
   "cell_type": "code",
   "execution_count": 4,
   "id": "00458e0b-8c29-42f6-a1ec-15a5f0bb45b6",
   "metadata": {},
   "outputs": [
    {
     "name": "stderr",
     "output_type": "stream",
     "text": [
      "/opt/anaconda3/lib/python3.12/site-packages/albumentations/core/validation.py:45: UserWarning: ShiftScaleRotate is a special case of Affine transform. Please use Affine transform instead.\n",
      "  original_init(self, **validated_kwargs)\n"
     ]
    }
   ],
   "source": [
    "import albumentations as A\n",
    "from albumentations.augmentations.geometric.transforms import ShiftScaleRotate\n",
    "\n",
    "# Definindo a transformação\n",
    "aug = A.Compose([\n",
    "    ShiftScaleRotate(shift_limit_x=0.1, shift_limit_y=0, scale_limit=0, rotate_limit=0, p=1, border_mode=0),\n",
    "])"
   ]
  },
  {
   "cell_type": "code",
   "execution_count": 6,
   "id": "b4231090-f719-45dd-95a9-5d6390282b46",
   "metadata": {},
   "outputs": [],
   "source": [
    "class FMNISTDataset(Dataset):\n",
    "    def __init__(self, x, y, aug=None):\n",
    "        self.x, self.y = x, y\n",
    "        self.aug = aug\n",
    "\n",
    "    def __getitem__(self, ix):\n",
    "        x, y = self.x[ix], self.y[ix]\n",
    "        x = np.array(x)  # Convertendo para numpy para aplicar a transformação\n",
    "        if self.aug:\n",
    "            # Aplicando a transformação\n",
    "            x = self.aug(image=x)[\"image\"]\n",
    "        x = torch.tensor(x).float()  # Convertendo para tensor\n",
    "        return x, y\n",
    "\n",
    "    def __len__(self):\n",
    "        return len(self.x)\n",
    "\n",
    "    def collate_fn(self, batch):\n",
    "        ims, classes = list(zip(*batch))\n",
    "        ims = torch.stack(ims)[:, None, :, :].to(device) / 255.  # Empilhando e normalizando as imagens\n",
    "        classes = torch.tensor(classes).to(device)\n",
    "        return ims, classes\n",
    "\n",
    "        ims = torch.tensor(ims)[:,None,:,:].to(device)/255.\n",
    "        classes = torch.tensor(classes).to(device)\n",
    "        return ims,classes"
   ]
  },
  {
   "cell_type": "code",
   "execution_count": 8,
   "id": "eb7f7b27-aa27-4bc7-9b22-4b50e1cf5d28",
   "metadata": {},
   "outputs": [],
   "source": [
    "#alterei os filtros, a ativacao e o pooling\n",
    "\n",
    "import torch\n",
    "import torch.nn as nn\n",
    "from torch.optim import Adam\n",
    "\n",
    "device = 'cpu'\n",
    "\n",
    "# Função para criar o modelo\n",
    "def get_model():\n",
    "    model = nn.Sequential(\n",
    "        nn.Conv2d(1, 32, kernel_size=3, padding=1),   # Reduzi o número de filtros para 32\n",
    "        nn.ReLU(),\n",
    "        nn.MaxPool2d(2),\n",
    "        nn.Conv2d(32, 64, kernel_size=3, padding=1),   # Agora com 64 filtros\n",
    "        nn.ReLU(),\n",
    "        nn.MaxPool2d(2),\n",
    "        nn.Conv2d(64, 128, kernel_size=3, padding=1),  # Aumentando o número de filtros\n",
    "        nn.ReLU(),\n",
    "        nn.MaxPool2d(2),\n",
    "        nn.Flatten(),\n",
    "        nn.Linear(128 * 3 * 3, 512),   # Ajustando as dimensões após as convoluções\n",
    "        nn.ReLU(),\n",
    "        nn.Dropout(0.5),                 # Adicionando Dropout para regularização\n",
    "        nn.Linear(512, 10)               # Camada de saída para 10 classes\n",
    "    ).to(device)\n",
    "\n",
    "    loss_fn = nn.CrossEntropyLoss()\n",
    "    optimizer = Adam(model.parameters(), lr=1e-3)\n",
    "    return model, loss_fn, optimizer\n",
    "\n",
    "# Função para treinar um batch\n",
    "def train_batch(x, y, model, optimizer, loss_fn):\n",
    "    model.train()\n",
    "    prediction = model(x)\n",
    "    batch_loss = loss_fn(prediction, y)\n",
    "    batch_loss.backward()\n",
    "    optimizer.step()           # Atualiza os pesos\n",
    "    optimizer.zero_grad()      # Zera os gradientes\n",
    "    return batch_loss.item()\n"
   ]
  },
  {
   "cell_type": "code",
   "execution_count": 12,
   "id": "bc1a433b-a95f-4f2a-a763-6e8305067e28",
   "metadata": {},
   "outputs": [
    {
     "name": "stdout",
     "output_type": "stream",
     "text": [
      "Epoch 0\n",
      "Epoch 1\n",
      "Epoch 2\n",
      "Epoch 3\n",
      "Epoch 4\n"
     ]
    }
   ],
   "source": [
    "def get_data():\n",
    "    train = FMNISTDataset(tr_images, tr_targets, aug=aug)  \n",
    "    # Observe o argumento collate_fn\n",
    "    trn_dl = DataLoader(train, batch_size=64, \n",
    "                        collate_fn=train.collate_fn, shuffle=True)\n",
    "    val = FMNISTDataset(val_images, val_targets)\n",
    "    val_dl = DataLoader(val, batch_size=len(val_images),\n",
    "                        collate_fn=val.collate_fn, shuffle=True)\n",
    "    return trn_dl, val_dl\n",
    "\n",
    "trn_dl, val_dl = get_data()\n",
    "model, loss_fn, optimizer = get_model()\n",
    "for epoch in range(5):\n",
    "    print(f\"Epoch {epoch}\")  # Exibe a época atual\n",
    "    for ix, batch in enumerate(iter(trn_dl)):  # Itera sobre os lotes de dados do DataLoader de treino\n",
    "        x, y = batch  # Desempacota os dados de entrada (x) e os rótulos (y) do lote atual\n",
    "        batch_loss = train_batch(x, y, model, optimizer, loss_fn)  # Treina o modelo com o lote e calcula a perda\n"
   ]
  },
  {
   "cell_type": "code",
   "execution_count": 13,
   "id": "55cb53da-cd50-46a4-8d59-b56d9e879145",
   "metadata": {},
   "outputs": [
    {
     "name": "stdout",
     "output_type": "stream",
     "text": [
      "Epoch 0\n",
      "Train Accuracy: 92.18%\n",
      "Validation Accuracy: 90.56%\n",
      "Epoch 1\n",
      "Train Accuracy: 93.15%\n",
      "Validation Accuracy: 91.30%\n",
      "Epoch 2\n",
      "Train Accuracy: 93.20%\n",
      "Validation Accuracy: 91.42%\n",
      "Epoch 3\n",
      "Train Accuracy: 93.47%\n",
      "Validation Accuracy: 91.68%\n",
      "Epoch 4\n",
      "Train Accuracy: 93.89%\n",
      "Validation Accuracy: 91.33%\n"
     ]
    }
   ],
   "source": [
    "import numpy as np\n",
    "import matplotlib.ticker as mtick\n",
    "import matplotlib.pyplot as plt\n",
    "\n",
    "# Função para calcular a acurácia\n",
    "def accuracy(model, dataloader):\n",
    "    model.eval()  # Coloca o modelo em modo de avaliação\n",
    "    correct = 0\n",
    "    total = 0\n",
    "    with torch.no_grad():  # Desliga o cálculo de gradientes\n",
    "        for x, y in dataloader:\n",
    "            outputs = model(x)\n",
    "            _, predicted = torch.max(outputs, 1)\n",
    "            total += y.size(0)\n",
    "            correct += (predicted == y).sum().item()\n",
    "    return correct / total\n",
    "\n",
    "# Inicialização das listas de acurácia\n",
    "train_accuracies = []\n",
    "val_accuracies = []\n",
    "\n",
    "# Loop de treinamento\n",
    "for epoch in range(5):\n",
    "    print(f\"Epoch {epoch}\")  # Exibe a época atual\n",
    "    model.train()  # Coloca o modelo em modo de treinamento\n",
    "    for ix, batch in enumerate(iter(trn_dl)):  # Itera sobre os lotes de dados do DataLoader de treino\n",
    "        x, y = batch  # Desempacota os dados de entrada (x) e os rótulos (y) do lote atual\n",
    "        batch_loss = train_batch(x, y, model, optimizer, loss_fn)  # Treina o modelo com o lote e calcula a perda\n",
    "\n",
    "    # Calculando acurácia no conjunto de treino e validação\n",
    "    train_acc = accuracy(model, trn_dl)\n",
    "    val_acc = accuracy(model, val_dl)\n",
    "    \n",
    "    train_accuracies.append(train_acc)\n",
    "    val_accuracies.append(val_acc)\n",
    "    print(f\"Train Accuracy: {train_acc*100:.2f}%\")\n",
    "    print(f\"Validation Accuracy: {val_acc*100:.2f}%\")\n"
   ]
  },
  {
   "cell_type": "code",
   "execution_count": 14,
   "id": "02534652-084f-45f2-9b4a-f79378878c9b",
   "metadata": {},
   "outputs": [
    {
     "name": "stderr",
     "output_type": "stream",
     "text": [
      "/var/folders/gj/z3h620ts09bft534lljf5m2m0000gn/T/ipykernel_72963/2888060702.py:14: UserWarning: set_ticklabels() should only be used with a fixed number of ticks, i.e. after set_ticks() or using a FixedLocator.\n",
      "  plt.gca().set_yticklabels(['{:.0f}%'.format(x*100) for x in plt.gca().get_yticks()])\n"
     ]
    },
    {
     "data": {
      "image/png": "[encoded data removed]",
      "text/plain": [
       "<Figure size 640x480 with 1 Axes>"
      ]
     },
     "metadata": {},
     "output_type": "display_data"
    }
   ],
   "source": [
    "import numpy as np\n",
    "import matplotlib.ticker as mtick\n",
    "import matplotlib.pyplot as plt\n",
    "import matplotlib.ticker as ticker\n",
    "\n",
    "epochs = np.arange(5) + 1\n",
    "\n",
    "plt.plot(epochs, train_accuracies, 'bo', label='Training accuracy')\n",
    "plt.plot(epochs, val_accuracies, 'r', label='Validation accuracy')\n",
    "plt.gca().xaxis.set_major_locator(ticker.MultipleLocator(1))\n",
    "plt.title('Training and validation accuracy with 4K data points used for training')\n",
    "plt.xlabel('Epochs')\n",
    "plt.ylabel('Accuracy')\n",
    "plt.gca().set_yticklabels(['{:.0f}%'.format(x*100) for x in plt.gca().get_yticks()])\n",
    "plt.grid('off')\n",
    "plt.legend()\n",
    "plt.show()"
   ]
  },
  {
   "cell_type": "code",
   "execution_count": null,
   "id": "6957a83b-94f0-48b4-b7ef-7e29e78dd92a",
   "metadata": {},
   "outputs": [],
   "source": []
  }
 ],
 "metadata": {
  "kernelspec": {
   "display_name": "Python [conda env:base] *",
   "language": "python",
   "name": "conda-base-py"
  },
  "language_info": {
   "codemirror_mode": {
    "name": "ipython",
    "version": 3
   },
   "file_extension": ".py",
   "mimetype": "text/x-python",
   "name": "python",
   "nbconvert_exporter": "python",
   "pygments_lexer": "ipython3",
   "version": "3.12.7"
  }
 },
 "nbformat": 4,
 "nbformat_minor": 5
}
