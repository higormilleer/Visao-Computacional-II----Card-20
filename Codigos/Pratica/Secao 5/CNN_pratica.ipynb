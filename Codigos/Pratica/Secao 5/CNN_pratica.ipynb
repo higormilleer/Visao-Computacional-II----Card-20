{
 "cells": [
  {
   "cell_type": "code",
   "execution_count": 2,
   "id": "d0d9b8aa-8a67-45c5-bbbd-fc5ab74f39f1",
   "metadata": {},
   "outputs": [
    {
     "data": {
      "text/plain": [
       "torch.Size([2, 4, 4])"
      ]
     },
     "execution_count": 2,
     "metadata": {},
     "output_type": "execute_result"
    }
   ],
   "source": [
    "#alterei os valores para mudar o restulado final\n",
    "\n",
    "import torch\n",
    "device = 'cpu'\n",
    "\n",
    "# Novo conjunto de dados X_train com valores diferentes\n",
    "X_train = torch.tensor([[[2, 3, 4, 5], [3, 4, 5, 6], [6, 7, 8, 9], [2, 4, 5, 6]], \n",
    "                        [[-2, 3, 4, -5], [3, -4, 5, 6], [-6, 7, -8, 9], [-2, -4, 5, -6]]]).float().to(device)\n",
    "\n",
    "# Normalizando os dados\n",
    "X_train.div_(8)\n",
    "\n",
    "# Rótulos de treinamento\n",
    "y_train = torch.tensor([0, 1]).float().to(device)\n",
    "\n",
    "# Verificando a forma do tensor\n",
    "X_train.shape\n"
   ]
  },
  {
   "cell_type": "code",
   "execution_count": 4,
   "id": "8ba333a2-575e-4b27-9ecc-74cf85bd1e30",
   "metadata": {},
   "outputs": [
    {
     "data": {
      "text/plain": [
       "torch.Size([2])"
      ]
     },
     "execution_count": 4,
     "metadata": {},
     "output_type": "execute_result"
    }
   ],
   "source": [
    "y_train.shape"
   ]
  },
  {
   "cell_type": "code",
   "execution_count": 6,
   "id": "8c57a751-ab6b-43c0-8bdf-6f1bebdbc346",
   "metadata": {},
   "outputs": [],
   "source": [
    "import torch\n",
    "import torch.nn as nn\n",
    "from torch.optim import Adam\n",
    "\n",
    "def get_model():\n",
    "    model = nn.Sequential(\n",
    "        nn.Conv2d(in_channels=1, out_channels=1, kernel_size=3),\n",
    "        nn.MaxPool2d(kernel_size=2),\n",
    "        nn.ReLU(),\n",
    "        nn.Flatten(),\n",
    "        nn.Linear(1, 1),\n",
    "        nn.Sigmoid()\n",
    "    ).to(device)\n",
    "    \n",
    "    loss_fn = nn.BCELoss()\n",
    "    optimizer = Adam(model.parameters(), lr=0.01)\n",
    "    \n",
    "    return model, loss_fn, optimizer"
   ]
  },
  {
   "cell_type": "code",
   "execution_count": 8,
   "id": "faed4cc4-a4ae-427d-8bb6-7130e5c59c0a",
   "metadata": {},
   "outputs": [
    {
     "data": {
      "text/plain": [
       "Sequential(\n",
       "  (0): Conv2d(1, 1, kernel_size=(3, 3), stride=(1, 1))\n",
       "  (1): MaxPool2d(kernel_size=2, stride=2, padding=0, dilation=1, ceil_mode=False)\n",
       "  (2): ReLU()\n",
       "  (3): Flatten(start_dim=1, end_dim=-1)\n",
       "  (4): Linear(in_features=1, out_features=1, bias=True)\n",
       "  (5): Sigmoid()\n",
       ")"
      ]
     },
     "execution_count": 8,
     "metadata": {},
     "output_type": "execute_result"
    }
   ],
   "source": [
    "model, criterion, optimizer = get_model()\n",
    "model"
   ]
  },
  {
   "cell_type": "code",
   "execution_count": 10,
   "id": "4a2496c8-1e00-47d1-b4d4-14522a97bae8",
   "metadata": {},
   "outputs": [],
   "source": [
    "def train_batch(x,y,model,optimizer,loss_fn):\n",
    "    model.train()\n",
    "    optimizer.zero_grad()\n",
    "    prediction = model(x)\n",
    "    batch_loss = loss_fn(prediction.squeeze(), y.squeeze())\n",
    "    batch_loss.backward()\n",
    "    optimizer.step()\n",
    "    return batch_loss.item()"
   ]
  },
  {
   "cell_type": "code",
   "execution_count": 12,
   "id": "6878ab94-d9f6-413a-a4a5-3208a71b0848",
   "metadata": {},
   "outputs": [],
   "source": [
    "from torch.utils.data import TensorDataset, Dataset, DataLoader\n",
    "\n",
    "trn_dl = DataLoader(TensorDataset(X_train,y_train))\n",
    "\n",
    "for epoch in range(2000):\n",
    "    for ix, batch in enumerate(trn_dl):\n",
    "        x,y = batch\n",
    "        x = x.to(device)\n",
    "        y = y.to(device)\n",
    "        batch_loss = train_batch(x,y,model,optimizer,criterion)"
   ]
  },
  {
   "cell_type": "code",
   "execution_count": 14,
   "id": "092c2220-edfc-442b-aa24-c6ceaaaa4a25",
   "metadata": {},
   "outputs": [
    {
     "data": {
      "text/plain": [
       "tensor([[0.0044]], grad_fn=<SigmoidBackward0>)"
      ]
     },
     "execution_count": 14,
     "metadata": {},
     "output_type": "execute_result"
    }
   ],
   "source": [
    "model(X_train[:1])"
   ]
  },
  {
   "cell_type": "code",
   "execution_count": null,
   "id": "8dec9fa4-3669-450e-8373-974e0614d888",
   "metadata": {},
   "outputs": [],
   "source": []
  }
 ],
 "metadata": {
  "kernelspec": {
   "display_name": "Python [conda env:base] *",
   "language": "python",
   "name": "conda-base-py"
  },
  "language_info": {
   "codemirror_mode": {
    "name": "ipython",
    "version": 3
   },
   "file_extension": ".py",
   "mimetype": "text/x-python",
   "name": "python",
   "nbconvert_exporter": "python",
   "pygments_lexer": "ipython3",
   "version": "3.12.7"
  }
 },
 "nbformat": 4,
 "nbformat_minor": 5
}
