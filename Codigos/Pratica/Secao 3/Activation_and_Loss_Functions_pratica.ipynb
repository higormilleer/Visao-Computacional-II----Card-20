{
 "cells": [
  {
   "cell_type": "code",
   "execution_count": 2,
   "id": "a777ab44-fc0a-467b-8e8b-c92a4eb846cd",
   "metadata": {},
   "outputs": [],
   "source": [
    "import math\n",
    "import torch\n",
    "import numpy as np\n",
    "\n",
    "# Função Sigmoid: (1 / 1 + e^(-x)):\n",
    "def sigmoid(x):\n",
    "    return 1 / (1 + math.exp(-x))\n",
    "\n",
    "# Função ReLU: 0 se x < 0, x se x > 0.\n",
    "class ReLU(torch.nn.Module):\n",
    "    def __init__(self):\n",
    "        super().__init__()\n",
    "\n",
    "    def forward(self, x):\n",
    "        return torch.max(torch.zeros_like(x), x)\n",
    "\n",
    "    \n",
    "# Erro quadrático médio (Mean Squared Error):\n",
    "def mse_loss(y_true, y_pred):\n",
    "    return np.mean((y_true - y_pred) ** 2)\n",
    "\n",
    "# Perda de entropia cruzada (Cross Entropy Loss):\n",
    "def cross_entropy_loss(y_true, y_pred):\n",
    "    epsilon = 1e-15\n",
    "    y_pred = np.clip(y_pred, epsilon, 1. - epsilon)  # Evitar divisão por zero\n",
    "    return -np.mean(y_true * np.log(y_pred) + (1 - y_true) * np.log(1 - y_pred))\n"
   ]
  },
  {
   "cell_type": "code",
   "execution_count": 4,
   "id": "d5c4001a-ad9c-4998-b0b3-dc639370368a",
   "metadata": {},
   "outputs": [],
   "source": [
    "#mudei os valores de x e y para ver qual variacia teria no loos value\n",
    "\n",
    "import torch\n",
    "import torch.nn as nn\n",
    "from torch.optim import SGD\n",
    "import matplotlib.pyplot as plt\n",
    "%matplotlib inline\n",
    "\n",
    "# Criando o conjunto de dados\n",
    "\n",
    "x = [[10, 20], [30, 40], [50, 60], [70, 80]]\n",
    "y = [[30], [70], [110], [150]]\n",
    "\n",
    "X = torch.tensor(x).float()\n",
    "Y = torch.tensor(y).float()\n",
    "\n",
    "# Verificando o dispositivo (CPU ou GPU)\n",
    "device = 'cuda' if torch.cuda.is_available() else 'cpu'\n",
    "X = X.to(device)\n",
    "Y = Y.to(device)\n",
    "\n",
    "# Arquitetura do modelo\n",
    "\n",
    "class MyNeuralNet(nn.Module):\n",
    "    def __init__(self):\n",
    "        # Quando chamamos o método super().__init__(), garantimos que estamos herdando\n",
    "        super().__init__()\n",
    "        self.layer1 = nn.Linear(2, 8)  # Uma camada linear\n",
    "        self.activation = nn.ReLU()   # Função de ativação\n",
    "        self.layer2 = nn.Linear(8, 1) # Segunda camada linear\n",
    "\n",
    "    # Quando passamos algo pelo modelo, ele chama a função forward\n",
    "    def forward(self, x):\n",
    "        x = self.layer1(x)\n",
    "        x = self.activation(x)\n",
    "        x = self.layer2(x)\n",
    "        return x\n",
    "\n",
    "# Criando uma instância do modelo\n",
    "model = MyNeuralNet()\n",
    "\n",
    "# Função de perda\n",
    "loss_func = nn.MSELoss()  # Erro quadrático médio (Mean Squared Error)\n",
    "\n",
    "# Otimizador\n",
    "opt = SGD(model.parameters(), lr=0.001)\n",
    "\n",
    "# Loop de treinamento\n",
    "losses = []\n",
    "for _ in range(50):  # 50 épocas\n",
    "    opt.zero_grad()  # Zerando os gradientes antes de cada época\n",
    "    loss_value = loss_func(model(X), Y)\n",
    "    \n",
    "    # Os gradientes da função de perda com respeito aos parâmetros treináveis\n",
    "    # são calculados e armazenados no atributo grad dos tensores correspondentes\n",
    "    loss_value.backward()\n",
    "\n",
    "    # opt.step() atualiza os pesos e os vieses da rede neural usando\n",
    "    # os gradientes calculados e o algoritmo de otimização escolhido\n",
    "    opt.step()\n",
    "    losses.append(loss_value.detach().numpy())\n"
   ]
  },
  {
   "cell_type": "code",
   "execution_count": 6,
   "id": "bb6aeefb-59c5-456e-9fe0-7fca96436b64",
   "metadata": {},
   "outputs": [
    {
     "data": {
      "text/plain": [
       "Text(0, 0.5, 'loss value')"
      ]
     },
     "execution_count": 6,
     "metadata": {},
     "output_type": "execute_result"
    }
   ],
   "source": [
    "# Loss Plot\n",
    "plt.plot(losses)\n",
    "plt.title('Loss variation x epochs')\n",
    "plt.xlabel('epochs')\n",
    "plt.ylabel('loss value')"
   ]
  },
  {
   "cell_type": "code",
   "execution_count": null,
   "id": "0200ffc9-6949-4994-bcb6-3a4403dfc725",
   "metadata": {},
   "outputs": [],
   "source": []
  }
 ],
 "metadata": {
  "kernelspec": {
   "display_name": "Python [conda env:base] *",
   "language": "python",
   "name": "conda-base-py"
  },
  "language_info": {
   "codemirror_mode": {
    "name": "ipython",
    "version": 3
   },
   "file_extension": ".py",
   "mimetype": "text/x-python",
   "name": "python",
   "nbconvert_exporter": "python",
   "pygments_lexer": "ipython3",
   "version": "3.12.7"
  }
 },
 "nbformat": 4,
 "nbformat_minor": 5
}
