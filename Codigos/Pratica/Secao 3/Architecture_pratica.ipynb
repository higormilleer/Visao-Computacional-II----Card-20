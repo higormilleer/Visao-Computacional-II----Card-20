{
 "cells": [
  {
   "cell_type": "code",
   "execution_count": 2,
   "id": "9b4b49e3-4d84-4c77-8007-14a045be805c",
   "metadata": {},
   "outputs": [],
   "source": [
    "#mudei os valores de x e y novamente\n",
    "import torch\n",
    "from torchviz import make_dot\n",
    "\n",
    "# Definindo os dados de entrada (input) e saída-alvo (target output)\n",
    "# y é a soma dos elementos de x\n",
    "x = [[10, 20], [30, 40], [50, 60], [70, 80]]\n",
    "y = [[30], [70], [110], [150]]\n",
    "\n",
    "# Convertendo listas para tensores para poder usar com o PyTorch\n",
    "X = torch.tensor(x).float()\n",
    "Y = torch.tensor(y).float()\n",
    "\n",
    "# Verificando se há suporte a CUDA (GPU) ou utilizando CPU\n",
    "device = 'cuda' if torch.cuda.is_available() else 'cpu'\n",
    "X = X.to(device)\n",
    "Y = Y.to(device)\n"
   ]
  },
  {
   "cell_type": "code",
   "execution_count": 4,
   "id": "77fbe22e-4098-4e6a-8a88-5d5899de624c",
   "metadata": {},
   "outputs": [],
   "source": [
    "#aumentei o numero de camadas\n",
    "\n",
    "import torch.nn as nn\n",
    "\n",
    "class MyNeuralNet(nn.Module):\n",
    "    def __init__(self):\n",
    "        super().__init__()\n",
    "        self.layer1 = nn.Linear(2, 16)  # Aumentei a quantidade de unidades da camada\n",
    "        self.activation1 = nn.ReLU()    # Função de ativação ReLU\n",
    "        self.dropout = nn.Dropout(0.2)  # Adicionando Dropout para regularização\n",
    "        self.layer2 = nn.Linear(16, 8)  # Outra camada linear\n",
    "        self.activation2 = nn.ReLU()    # Outra camada de ativação ReLU\n",
    "        self.layer3 = nn.Linear(8, 1)   # Camada de saída\n",
    "        self.output_activation = nn.Sigmoid()  # Função de ativação Sigmoid para saída binária\n",
    "\n",
    "    def forward(self, x):\n",
    "        x = self.layer1(x)\n",
    "        x = self.activation1(x)\n",
    "        x = self.dropout(x)  # Aplica dropout após a primeira camada\n",
    "        x = self.layer2(x)\n",
    "        x = self.activation2(x)\n",
    "        x = self.layer3(x)\n",
    "        x = self.output_activation(x)  # Saída com Sigmoid\n",
    "        return x\n"
   ]
  },
  {
   "cell_type": "code",
   "execution_count": 6,
   "id": "9d7085f2-93de-47d0-ad85-97bf8b77b4dc",
   "metadata": {},
   "outputs": [
    {
     "data": {
      "text/plain": [
       "Parameter containing:\n",
       "tensor([[ 0.2983, -0.5455],\n",
       "        [-0.0751, -0.6990],\n",
       "        [-0.3481, -0.0159],\n",
       "        [ 0.1943, -0.3221],\n",
       "        [-0.6047,  0.5134],\n",
       "        [ 0.2068,  0.5011],\n",
       "        [-0.4238, -0.0934],\n",
       "        [ 0.6098, -0.3169],\n",
       "        [ 0.5515,  0.3051],\n",
       "        [ 0.6796, -0.3480],\n",
       "        [ 0.2860, -0.0651],\n",
       "        [-0.5339, -0.4047],\n",
       "        [-0.4397,  0.4266],\n",
       "        [ 0.1656, -0.5658],\n",
       "        [-0.2095, -0.0250],\n",
       "        [ 0.2102, -0.1662]], requires_grad=True)"
      ]
     },
     "execution_count": 6,
     "metadata": {},
     "output_type": "execute_result"
    }
   ],
   "source": [
    "model = MyNeuralNet()\n",
    "model.layer1.weight"
   ]
  },
  {
   "cell_type": "code",
   "execution_count": null,
   "id": "b30c410b-1e09-409a-a3f8-72adfaf86d65",
   "metadata": {},
   "outputs": [],
   "source": []
  }
 ],
 "metadata": {
  "kernelspec": {
   "display_name": "Python [conda env:base] *",
   "language": "python",
   "name": "conda-base-py"
  },
  "language_info": {
   "codemirror_mode": {
    "name": "ipython",
    "version": 3
   },
   "file_extension": ".py",
   "mimetype": "text/x-python",
   "name": "python",
   "nbconvert_exporter": "python",
   "pygments_lexer": "ipython3",
   "version": "3.12.7"
  }
 },
 "nbformat": 4,
 "nbformat_minor": 5
}
