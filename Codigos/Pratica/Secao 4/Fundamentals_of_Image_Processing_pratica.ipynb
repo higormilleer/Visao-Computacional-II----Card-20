{
 "cells": [
  {
   "cell_type": "code",
   "execution_count": 2,
   "id": "96b8cd27-fb71-4143-aa7b-192805629a35",
   "metadata": {},
   "outputs": [],
   "source": [
    "import cv2 as cv\n",
    "import matplotlib.pyplot as plt\n",
    "import numpy as np\n",
    "%matplotlib inline"
   ]
  },
  {
   "cell_type": "code",
   "execution_count": 4,
   "id": "4cb60cf7-7ee0-4b50-ad8b-8474d1197eea",
   "metadata": {},
   "outputs": [
    {
     "name": "stdout",
     "output_type": "stream",
     "text": [
      "Imagem baixada com sucesso!\n"
     ]
    }
   ],
   "source": [
    "import requests\n",
    "\n",
    "url = \"https://i.scdn.co/image/ab6761610000e5eb31f6ab67e6025de876475814\"\n",
    "response = requests.get(url)\n",
    "\n",
    "if response.status_code == 200:\n",
    "    with open(\"imagem.png\", \"wb\") as file:\n",
    "        file.write(response.content)\n",
    "    print(\"Imagem baixada com sucesso!\")\n",
    "else:\n",
    "    print(\"Falha ao baixar a imagem. Código de status:\", response.status_code)\n"
   ]
  },
  {
   "cell_type": "code",
   "execution_count": 6,
   "id": "f3c0e964-bd61-455f-9acb-ce2b6273349e",
   "metadata": {},
   "outputs": [],
   "source": [
    "img = cv.imread('imagem.png')"
   ]
  },
  {
   "cell_type": "code",
   "execution_count": 8,
   "id": "638f9157-21f2-43f9-b437-1879bc9ec915",
   "metadata": {},
   "outputs": [
    {
     "data": {
      "text/plain": [
       "<matplotlib.image.AxesImage at 0x15193ff50>"
      ]
     },
     "execution_count": 8,
     "metadata": {},
     "output_type": "execute_result"
    }
   ],
   "source": [
    "# OpenCV by default read the image in BGR\n",
    "plt.imshow(img)"
   ]
  },
  {
   "cell_type": "code",
   "execution_count": 10,
   "id": "ec5f76cc-84ae-42d2-b519-ff45d4a58d6e",
   "metadata": {},
   "outputs": [
    {
     "data": {
      "text/plain": [
       "<matplotlib.image.AxesImage at 0x15159db50>"
      ]
     },
     "execution_count": 10,
     "metadata": {},
     "output_type": "execute_result"
    }
   ],
   "source": [
    "# Convertendo para RGB\n",
    "rgb_image = cv.cvtColor(img, cv.COLOR_BGR2RGB)\n",
    "plt.imshow(rgb_image)"
   ]
  },
  {
   "cell_type": "code",
   "execution_count": 14,
   "id": "77258164-cfea-4b36-9914-304f6b5e07b8",
   "metadata": {},
   "outputs": [
    {
     "data": {
      "text/plain": [
       "<matplotlib.image.AxesImage at 0x15148f770>"
      ]
     },
     "execution_count": 14,
     "metadata": {},
     "output_type": "execute_result"
    }
   ],
   "source": [
    "gray_image = cv.cvtColor(rgb_image, cv.COLOR_RGB2GRAY)\n",
    "plt.imshow(gray_image, cmap='gray')"
   ]
  },
  {
   "cell_type": "code",
   "execution_count": 16,
   "id": "aeefb6f5-8866-4ee5-b990-82ab04a311fb",
   "metadata": {},
   "outputs": [
    {
     "data": {
      "text/plain": [
       "<matplotlib.image.AxesImage at 0x151ba0590>"
      ]
     },
     "execution_count": 16,
     "metadata": {},
     "output_type": "execute_result"
    }
   ],
   "source": [
    "# É possível redimensionar uma imagem, reduzindo sua qualidade, mas mantendo suas características:\n",
    "img_gray_small = cv.resize(gray_image, (50, 50))\n",
    "plt.imshow(img_gray_small, cmap='gray')\n"
   ]
  },
  {
   "cell_type": "code",
   "execution_count": 18,
   "id": "60489d97-f9ba-49e0-8b37-16a50e241d26",
   "metadata": {},
   "outputs": [
    {
     "data": {
      "text/plain": [
       "<matplotlib.image.AxesImage at 0x151bec410>"
      ]
     },
     "execution_count": 18,
     "metadata": {},
     "output_type": "execute_result"
    }
   ],
   "source": [
    "plt.imshow(gray_image[:,:300], cmap='gray')"
   ]
  },
  {
   "cell_type": "code",
   "execution_count": null,
   "id": "ce1ffc05-9521-4595-9c9a-8ada83e1d9e2",
   "metadata": {},
   "outputs": [],
   "source": []
  }
 ],
 "metadata": {
  "kernelspec": {
   "display_name": "Python [conda env:base] *",
   "language": "python",
   "name": "conda-base-py"
  },
  "language_info": {
   "codemirror_mode": {
    "name": "ipython",
    "version": 3
   },
   "file_extension": ".py",
   "mimetype": "text/x-python",
   "name": "python",
   "nbconvert_exporter": "python",
   "pygments_lexer": "ipython3",
   "version": "3.12.7"
  }
 },
 "nbformat": 4,
 "nbformat_minor": 5
}
